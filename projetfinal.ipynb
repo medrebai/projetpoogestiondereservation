{
 "cells": [
  {
   "cell_type": "markdown",
   "metadata": {},
   "source": [
    "# Importer les bibliothèques nécessaires\n",
    "Importer les bibliothèques nécessaires, telles que datetime, pandas et openpyxl."
   ]
  },
  {
   "cell_type": "code",
   "execution_count": 1,
   "metadata": {},
   "outputs": [
    {
     "name": "stderr",
     "output_type": "stream",
     "text": [
      "C:\\Users\\MSI\\AppData\\Local\\Temp\\ipykernel_20104\\879769663.py:3: DeprecationWarning: \n",
      "Pyarrow will become a required dependency of pandas in the next major release of pandas (pandas 3.0),\n",
      "(to allow more performant data types, such as the Arrow string type, and better interoperability with other libraries)\n",
      "but was not found to be installed on your system.\n",
      "If this would cause problems for you,\n",
      "please provide us feedback at https://github.com/pandas-dev/pandas/issues/54466\n",
      "        \n",
      "  import pandas as pd\n"
     ]
    }
   ],
   "source": [
    "# Importer les bibliothèques nécessaires\n",
    "import datetime\n",
    "import pandas as pd\n",
    "import openpyxl\n",
    "import os\n",
    "import sys"
   ]
  },
  {
   "cell_type": "markdown",
   "metadata": {},
   "source": [
    "# Définir les classes et les fonctions\n",
    "Définir les classes et les fonctions nécessaires pour gérer les réservations, y compris les classes pour les réservations et les services."
   ]
  },
  {
   "cell_type": "code",
   "execution_count": 25,
   "metadata": {},
   "outputs": [
    {
     "name": "stdout",
     "output_type": "stream",
     "text": [
      "Réservation confirmée pour Alice Dupont le 2023-12-01 à 18:00 pour le service Hôtel.\n",
      "Réservation confirmée pour Bob tin le 2023-12-01 à 20:00 pour le service Restaurant.\n",
      "Réservation confirmée pour Alice pont le 2025-01-01 à 18:00 pour le service Transport.\n",
      "Réservation confirmée pour Bob Marly le 2025-12-01 à 20:00 pour le service Cinéma.\n",
      "Réservation confirmée pour Ali Dupont le 2024-12-01 à 18:00 pour le service Nettoyage.\n",
      "  service        date   time customer_name\n",
      "0   Hôtel  2023-12-01  18:00  Alice Dupont\n",
      "      service        date   time customer_name\n",
      "0  Restaurant  2023-12-01  20:00       Bob tin\n",
      "Les réservations ont été sauvegardées dans le fichier hotel_reservations.xlsx.\n",
      "Les réservations ont été sauvegardées dans le fichier restaurant_reservations.xlsx.\n",
      "Les réservations ont été sauvegardées dans le fichier cinema_reservations.xlsx.\n",
      "Les réservations ont été sauvegardées dans le fichier restaurant_reservations.xlsx.\n",
      "Les réservations ont été sauvegardées dans le fichier nettoyage_reservations.xlsx.\n",
      "Aucune réservation à sauvegarder.\n"
     ]
    }
   ],
   "source": [
    "# Définir les classes et les fonctions\n",
    "# Définir les classes et les fonctions nécessaires pour gérer les réservations, y compris les classes pour les réservations et les services.\n",
    "\n",
    "class Reservation:\n",
    "    def __init__(self, service, date, time, customer_name):\n",
    "        self.service = service\n",
    "        self.date = date\n",
    "        self.time = time\n",
    "        self.customer_name = customer_name\n",
    "\n",
    "    def __repr__(self):\n",
    "        return f\"Reservation(service={self.service}, date={self.date}, time={self.time}, customer_name={self.customer_name})\"\n",
    "\n",
    "class Service:\n",
    "    def __init__(self, name):\n",
    "        self.name = name\n",
    "        self.reservations = []\n",
    "\n",
    "    def add_reservation(self, reservation):\n",
    "        self.reservations.append(reservation)\n",
    "\n",
    "    def check_availability(self, date, time):\n",
    "        for reservation in self.reservations:\n",
    "            if reservation.date == date and reservation.time == time:\n",
    "                return False\n",
    "        return True\n",
    "\n",
    "    def get_reservations(self):\n",
    "        return self.reservations\n",
    "\n",
    "# Fonction pour créer une réservation\n",
    "def create_reservation(service, date, time, customer_name):\n",
    "    if service.check_availability(date, time):\n",
    "        reservation = Reservation(service.name, date, time, customer_name)\n",
    "        service.add_reservation(reservation)\n",
    "        return f\"Réservation confirmée pour {customer_name} le {date} à {time} pour le service {service.name}.\"\n",
    "    else:\n",
    "        return \"Désolé, cette date et heure ne sont pas disponibles.\"\n",
    "\n",
    "# Fonction pour afficher toutes les réservations\n",
    "def display_reservations(service):\n",
    "    reservations = service.get_reservations()\n",
    "    if reservations:\n",
    "        return pd.DataFrame([vars(r) for r in reservations])\n",
    "    else:\n",
    "        return \"Aucune réservation enregistrée.\"\n",
    "\n",
    "# Fonction pour sauvegarder les réservations dans un fichier Excel\n",
    "def save_reservations_to_excel(service, filename):\n",
    "    reservations = service.get_reservations()\n",
    "    if reservations:\n",
    "        df = pd.DataFrame([vars(r) for r in reservations])\n",
    "        df.to_excel(filename, index=False)\n",
    "        return f\"Les réservations ont été sauvegardées dans le fichier {filename}.\"\n",
    "    else:\n",
    "        return \"Aucune réservation à sauvegarder.\"\n",
    "\n",
    "# Exemple d'utilisation des fonctions\n",
    "hotel_service = Service(\"Hôtel\")\n",
    "restaurant_service = Service(\"Restaurant\")\n",
    "cinema_service = Service(\"Cinéma\")\n",
    "bibliotheque_service = Service(\"Bibliothèque\")\n",
    "nettoyage_service = Service(\"Nettoyage\")\n",
    "transport_service = Service(\"Transport\")\n",
    "\n",
    "\n",
    "# Effectuer des réservations\n",
    "print(create_reservation(hotel_service, \"2023-12-01\", \"18:00\", \"Alice Dupont\"))\n",
    "print(create_reservation(restaurant_service, \"2023-12-01\", \"20:00\", \"Bob tin\"))\n",
    "print(create_reservation(transport_service, \"2025-01-01\", \"18:00\", \"Alice pont\"))\n",
    "print(create_reservation(cinema_service, \"2025-12-01\", \"20:00\", \"Bob Marly\"))\n",
    "print(create_reservation(nettoyage_service, \"2024-12-01\", \"18:00\", \"Ali Dupont\"))\n",
    "\n",
    "\n",
    "# Afficher les réservations\n",
    "print(display_reservations(hotel_service))\n",
    "print(display_reservations(restaurant_service))\n",
    "\n",
    "# Sauvegarder les réservations dans un fichier Excel\n",
    "print(save_reservations_to_excel(hotel_service, \"hotel_reservations.xlsx\"))\n",
    "print(save_reservations_to_excel(restaurant_service, \"restaurant_reservations.xlsx\"))\n",
    "print(save_reservations_to_excel(cinema_service, \"cinema_reservations.xlsx\"))\n",
    "print(save_reservations_to_excel(transport_service, \"restaurant_reservations.xlsx\"))\n",
    "print(save_reservations_to_excel(nettoyage_service, \"nettoyage_reservations.xlsx\"))\n",
    "print(save_reservations_to_excel(bibliotheque_service, \"bibliotheque_reservations.xlsx\"))\n"
   ]
  },
  {
   "cell_type": "markdown",
   "metadata": {},
   "source": [
    "# Fonction pour créer une réservation\n",
    "Créer une fonction pour permettre aux utilisateurs de créer une réservation en spécifiant le service, la date et l'heure."
   ]
  },
  {
   "cell_type": "code",
   "execution_count": 26,
   "metadata": {},
   "outputs": [
    {
     "name": "stdout",
     "output_type": "stream",
     "text": [
      "Réservation confirmée pour adem le 11/12/2025 à 12:35 pour le service musee.\n"
     ]
    }
   ],
   "source": [
    "# Fonction pour créer une réservation\n",
    "def create_reservation(service, date, time, customer_name):\n",
    "    if service.check_availability(date, time):\n",
    "        reservation = Reservation(service.name, date, time, customer_name)\n",
    "        service.add_reservation(reservation)\n",
    "        save_reservations_to_excel(service, f\"{service.name.lower()}_reservations.xlsx\")\n",
    "        return f\"Réservation confirmée pour {customer_name} le {date} à {time} pour le service {service.name}.\"\n",
    "    else:\n",
    "        return \"Désolé, cette date et heure ne sont pas disponibles.\"\n",
    "\n",
    "# Exemple d'utilisation de la fonction create_reservation avec des entrées utilisateur\n",
    "service_name = input(\"Entrez le nom du service: \")\n",
    "date = input(\"Entrez la date (YYYY-MM-DD): \")\n",
    "time = input(\"Entrez l'heure (HH:MM): \")\n",
    "customer_name = input(\"Entrez le nom du client: \")\n",
    "\n",
    "# Vérifier si le service existe déjà, sinon le créer\n",
    "services = {\"Hôtel\": hotel_service, \"Restaurant\": restaurant_service , \"cinema\": cinema_service ,\"bibliotheque\": bibliotheque_service,\"nettoyqge\": nettoyage_service,\"transport\": transport_service }\n",
    "if service_name not in services:\n",
    "    services[service_name] = Service(service_name)\n",
    "\n",
    "# Créer la réservation\n",
    "print(create_reservation(services[service_name], date, time, customer_name))"
   ]
  },
  {
   "cell_type": "markdown",
   "metadata": {},
   "source": [
    "# Fonction pour afficher toutes les réservations\n",
    "Créer une fonction pour afficher toutes les réservations enregistrées."
   ]
  },
  {
   "cell_type": "code",
   "execution_count": 27,
   "metadata": {},
   "outputs": [
    {
     "name": "stdout",
     "output_type": "stream",
     "text": [
      "  service        date   time customer_name\n",
      "0   musee  11/12/2025  12:35          adem\n"
     ]
    }
   ],
   "source": [
    "# Fonction pour afficher toutes les réservations\n",
    "def display_reservations(service):\n",
    "    reservations = service.get_reservations()\n",
    "    if reservations:\n",
    "        df = pd.DataFrame([vars(r) for r in reservations])\n",
    "        return df\n",
    "    else:\n",
    "        return \"Aucune réservation enregistrée.\"\n",
    "\n",
    "# Exemple d'utilisation de la fonction display_reservations avec des entrées utilisateur\n",
    "service_name = input(\"Entrez le nom du service pour afficher les réservations: \")\n",
    "\n",
    "# Vérifier si le service existe déjà\n",
    "if service_name in services:\n",
    "    print(display_reservations(services[service_name]))\n",
    "else:\n",
    "    print(f\"Service {service_name} non trouvé.\")"
   ]
  },
  {
   "cell_type": "markdown",
   "metadata": {},
   "source": [
    "# Fonction pour vérifier la disponibilité\n",
    "Créer une fonction pour vérifier la disponibilité d'une date et d'une heure spécifiques pour un service donné."
   ]
  },
  {
   "cell_type": "code",
   "execution_count": 29,
   "metadata": {},
   "outputs": [
    {
     "name": "stdout",
     "output_type": "stream",
     "text": [
      "La date 12-22-2023 à 12:45 est disponible pour le service musee.\n"
     ]
    }
   ],
   "source": [
    "# Fonction pour vérifier la disponibilité d'une date et d'une heure spécifiques pour un service donné\n",
    "def check_service_availability(service, date, time):\n",
    "    if service.check_availability(date, time):\n",
    "        return f\"La date {date} à {time} est disponible pour le service {service.name}.\"\n",
    "    else:\n",
    "        return f\"Désolé, la date {date} à {time} n'est pas disponible pour le service {service.name}.\"\n",
    "\n",
    "# Exemple d'utilisation de la fonction check_service_availability avec des entrées utilisateur\n",
    "service_name = input(\"Entrez le nom du service pour vérifier la disponibilité: \")\n",
    "date = input(\"Entrez la date (YYYY-MM-DD): \")\n",
    "time = input(\"Entrez l'heure (HH:MM): \")\n",
    "\n",
    "# Vérifier si le service existe déjà\n",
    "if service_name in services:\n",
    "    print(check_service_availability(services[service_name], date, time))\n",
    "else:\n",
    "    print(f\"Service {service_name} non trouvé.\")"
   ]
  },
  {
   "cell_type": "markdown",
   "metadata": {},
   "source": [
    "# Fonction pour modifier une réservation\n",
    "Créer une fonction pour permettre aux utilisateurs de modifier une réservation existante."
   ]
  },
  {
   "cell_type": "code",
   "execution_count": null,
   "metadata": {},
   "outputs": [
    {
     "name": "stdout",
     "output_type": "stream",
     "text": [
      "Réservation non trouvée.\n"
     ]
    }
   ],
   "source": [
    "# Fonction pour modifier une réservation\n",
    "def modify_reservation(service, old_date, old_time, customer_name, new_date, new_time):\n",
    "    # Trouver la réservation existante\n",
    "    for reservation in service.reservations:\n",
    "        if reservation.date == old_date and reservation.time == old_time and reservation.customer_name == customer_name:\n",
    "            # Vérifier la disponibilité de la nouvelle date et heure\n",
    "            if service.check_availability(new_date, new_time):\n",
    "                # Modifier la réservation\n",
    "                reservation.date = new_date\n",
    "                reservation.time = new_time\n",
    "                save_reservations_to_excel(service, f\"{service.name.lower()}_reservations.xlsx\")\n",
    "                return f\"Réservation modifiée pour {customer_name} : nouvelle date {new_date} à {new_time}.\"\n",
    "            else:\n",
    "                return \"Désolé, la nouvelle date et heure ne sont pas disponibles.\"\n",
    "    return \"Réservation non trouvée.\"\n",
    "\n",
    "# Exemple d'utilisation de la fonction modify_reservation avec des entrées utilisateur\n",
    "service_name = input(\"Entrez le nom du service pour modifier la réservation: \")\n",
    "old_date = input(\"Entrez l'ancienne date (YYYY-MM-DD): \")\n",
    "old_time = input(\"Entrez l'ancienne heure (HH:MM): \")\n",
    "customer_name = input(\"Entrez le nom du client: \")\n",
    "new_date = input(\"Entrez la nouvelle date (YYYY-MM-DD): \")\n",
    "new_time = input(\"Entrez la nouvelle heure (HH:MM): \")\n",
    "\n",
    "# Vérifier si le service existe déjà\n",
    "if service_name in services:\n",
    "    print(modify_reservation(services[service_name], old_date, old_time, customer_name, new_date, new_time))\n",
    "else:\n",
    "    print(f\"Service {service_name} non trouvé.\")"
   ]
  },
  {
   "cell_type": "markdown",
   "metadata": {},
   "source": [
    "# Fonction pour annuler une réservation\n",
    "Créer une fonction pour permettre aux utilisateurs d'annuler une réservation existante."
   ]
  },
  {
   "cell_type": "code",
   "execution_count": null,
   "metadata": {},
   "outputs": [],
   "source": [
    "# Fonction pour annuler une réservation\n",
    "def cancel_reservation(service, date, time, customer_name):\n",
    "    # Trouver la réservation existante\n",
    "    for reservation in service.reservations:\n",
    "        if reservation.date == date and reservation.time == time and reservation.customer_name == customer_name:\n",
    "            # Annuler la réservation\n",
    "            service.reservations.remove(reservation)\n",
    "            save_reservations_to_excel(service, f\"{service.name.lower()}_reservations.xlsx\")\n",
    "            return f\"Réservation annulée pour {customer_name} le {date} à {time}.\"\n",
    "    return \"Réservation non trouvée.\"\n",
    "\n",
    "# Exemple d'utilisation de la fonction cancel_reservation avec des entrées utilisateur\n",
    "service_name = input(\"Entrez le nom du service pour annuler la réservation: \")\n",
    "date = input(\"Entrez la date (YYYY-MM-DD): \")\n",
    "time = input(\"Entrez l'heure (HH:MM): \")\n",
    "customer_name = input(\"Entrez le nom du client: \")\n",
    "\n",
    "# Vérifier si le service existe déjà\n",
    "if service_name in services:\n",
    "    print(cancel_reservation(services[service_name], date, time, customer_name))\n",
    "else:\n",
    "    print(f\"Service {service_name} non trouvé.\")"
   ]
  },
  {
   "cell_type": "markdown",
   "metadata": {},
   "source": [
    "# Fonction pour afficher les réservations par service\n",
    "Créer une fonction pour afficher les réservations par service spécifique."
   ]
  },
  {
   "cell_type": "code",
   "execution_count": 7,
   "metadata": {},
   "outputs": [
    {
     "name": "stdout",
     "output_type": "stream",
     "text": [
      "  service        date   time customer_name\n",
      "0    test  2024-12-30  12:00          Adem\n"
     ]
    }
   ],
   "source": [
    "# Fonction pour afficher les réservations par service spécifique\n",
    "def display_reservations_by_service(service_name, services):\n",
    "    if service_name in services:\n",
    "        reservations = services[service_name].get_reservations()\n",
    "        if reservations:\n",
    "            df = pd.DataFrame([vars(r) for r in reservations])\n",
    "            return df\n",
    "        else:\n",
    "            return f\"Aucune réservation enregistrée pour le service {service_name}.\"\n",
    "    else:\n",
    "        return f\"Service {service_name} non trouvé.\"\n",
    "\n",
    "# Exemple d'utilisation de la fonction display_reservations_by_service avec des entrées utilisateur\n",
    "service_name = input(\"Entrez le nom du service pour afficher les réservations: \")\n",
    "\n",
    "# Afficher les réservations pour le service spécifié\n",
    "print(display_reservations_by_service(service_name, services))"
   ]
  },
  {
   "cell_type": "markdown",
   "metadata": {},
   "source": [
    "# Fonction pour sauvegarder les données dans un fichier Excel\n",
    "Créer une fonction pour sauvegarder les données des réservations dans un fichier Excel."
   ]
  },
  {
   "cell_type": "code",
   "execution_count": 8,
   "metadata": {},
   "outputs": [
    {
     "name": "stdout",
     "output_type": "stream",
     "text": [
      "Les réservations ont été sauvegardées dans le fichier test_reservations.xlsx.\n"
     ]
    }
   ],
   "source": [
    "# Fonction pour sauvegarder les données dans un fichier Excel\n",
    "def save_reservations_to_excel(service, filename):\n",
    "    reservations = service.get_reservations()\n",
    "    if reservations:\n",
    "        df = pd.DataFrame([vars(r) for r in reservations])\n",
    "        df.to_excel(filename, index=False)\n",
    "        return f\"Les réservations ont été sauvegardées dans le fichier {filename}.\"\n",
    "    else:\n",
    "        return \"Aucune réservation à sauvegarder.\"\n",
    "\n",
    "# Exemple d'utilisation de la fonction save_reservations_to_excel avec des entrées utilisateur\n",
    "service_name = input(\"Entrez le nom du service pour sauvegarder les réservations: \")\n",
    "\n",
    "# Vérifier si le service existe déjà\n",
    "if service_name in services:\n",
    "    filename = input(\"Entrez le nom du fichier Excel (avec extension .xlsx): \")\n",
    "    print(save_reservations_to_excel(services[service_name], filename))\n",
    "else:\n",
    "    print(f\"Service {service_name} non trouvé.\")"
   ]
  },
  {
   "cell_type": "markdown",
   "metadata": {},
   "source": [
    "# Fonction pour charger les données depuis un fichier Excel\n",
    "Créer une fonction pour charger les données des réservations depuis un fichier Excel."
   ]
  },
  {
   "cell_type": "code",
   "execution_count": 11,
   "metadata": {},
   "outputs": [
    {
     "name": "stdout",
     "output_type": "stream",
     "text": [
      "Le fichier reservations.xlsx n'existe pas.\n"
     ]
    }
   ],
   "source": [
    "# Fonction pour charger les données depuis un fichier Excel\n",
    "def load_reservations_from_excel(service, filename):\n",
    "    if os.path.exists(filename):\n",
    "        df = pd.read_excel(filename)\n",
    "        for index, row in df.iterrows():\n",
    "            reservation = Reservation(row['service'], row['date'], row['time'], row['customer_name'])\n",
    "            service.add_reservation(reservation)\n",
    "        return f\"Les réservations ont été chargées depuis le fichier {filename}.\"\n",
    "    else:\n",
    "        return f\"Le fichier {filename} n'existe pas.\"\n",
    "\n",
    "# Exemple d'utilisation de la fonction load_reservations_from_excel avec des entrées utilisateur\n",
    "service_name = input(\"Entrez le nom du service pour charger les réservations: \")\n",
    "\n",
    "# Vérifier si le service existe déjà, sinon le créer\n",
    "if service_name not in services:\n",
    "    services[service_name] = Service(service_name)\n",
    "\n",
    "filename = input(\"Entrez le nom du fichier Excel (avec extension .xlsx): \")\n",
    "print(load_reservations_from_excel(services[service_name], filename))\n",
    "df=display_reservations(services[service_name])"
   ]
  },
  {
   "cell_type": "markdown",
   "metadata": {},
   "source": [
    "# Fonction pour afficher le menu principal\n",
    "Créer une fonction pour afficher le menu principal avec les différentes options."
   ]
  },
  {
   "cell_type": "code",
   "execution_count": 12,
   "metadata": {},
   "outputs": [],
   "source": [
    "# Fonction pour afficher le menu principal\n",
    "def afficher_menu():\n",
    "    print(\"Menu Principal\")\n",
    "    print(\"1. Créer une réservation\")\n",
    "    print(\"2. Afficher les réservations\")\n",
    "    print(\"3. Vérifier la disponibilité\")\n",
    "    print(\"4. Modifier une réservation\")\n",
    "    print(\"5. Annuler une réservation\")\n",
    "    print(\"6. Afficher les réservations par service\")\n",
    "    print(\"7. Sauvegarder les réservations dans un fichier Excel\")\n",
    "    print(\"8. Charger les réservations depuis un fichier Excel\")\n",
    "    print(\"9. Quitter\")"
   ]
  },
  {
   "cell_type": "markdown",
   "metadata": {},
   "source": [
    "# Gérer les choix du menu\n",
    "Créer une boucle pour gérer les choix de l'utilisateur et appeler les fonctions appropriées."
   ]
  },
  {
   "cell_type": "code",
   "execution_count": 13,
   "metadata": {},
   "outputs": [
    {
     "name": "stdout",
     "output_type": "stream",
     "text": [
      "Menu Principal\n",
      "1. Créer une réservation\n",
      "2. Afficher les réservations\n",
      "3. Vérifier la disponibilité\n",
      "4. Modifier une réservation\n",
      "5. Annuler une réservation\n",
      "6. Afficher les réservations par service\n",
      "7. Sauvegarder les réservations dans un fichier Excel\n",
      "8. Charger les réservations depuis un fichier Excel\n",
      "9. Quitter\n",
      "Désolé, cette date et heure ne sont pas disponibles.\n",
      "Menu Principal\n",
      "1. Créer une réservation\n",
      "2. Afficher les réservations\n",
      "3. Vérifier la disponibilité\n",
      "4. Modifier une réservation\n",
      "5. Annuler une réservation\n",
      "6. Afficher les réservations par service\n",
      "7. Sauvegarder les réservations dans un fichier Excel\n",
      "8. Charger les réservations depuis un fichier Excel\n",
      "9. Quitter\n",
      "Option invalide, veuillez réessayer.\n",
      "Menu Principal\n",
      "1. Créer une réservation\n",
      "2. Afficher les réservations\n",
      "3. Vérifier la disponibilité\n",
      "4. Modifier une réservation\n",
      "5. Annuler une réservation\n",
      "6. Afficher les réservations par service\n",
      "7. Sauvegarder les réservations dans un fichier Excel\n",
      "8. Charger les réservations depuis un fichier Excel\n",
      "9. Quitter\n",
      "Option invalide, veuillez réessayer.\n",
      "Menu Principal\n",
      "1. Créer une réservation\n",
      "2. Afficher les réservations\n",
      "3. Vérifier la disponibilité\n",
      "4. Modifier une réservation\n",
      "5. Annuler une réservation\n",
      "6. Afficher les réservations par service\n",
      "7. Sauvegarder les réservations dans un fichier Excel\n",
      "8. Charger les réservations depuis un fichier Excel\n",
      "9. Quitter\n"
     ]
    },
    {
     "ename": "KeyboardInterrupt",
     "evalue": "Interrupted by user",
     "output_type": "error",
     "traceback": [
      "\u001b[1;31m---------------------------------------------------------------------------\u001b[0m",
      "\u001b[1;31mKeyboardInterrupt\u001b[0m                         Traceback (most recent call last)",
      "Cell \u001b[1;32mIn[13], line 82\u001b[0m\n\u001b[0;32m     80\u001b[0m \u001b[38;5;66;03m# Lancer le programme\u001b[39;00m\n\u001b[0;32m     81\u001b[0m \u001b[38;5;28;01mif\u001b[39;00m \u001b[38;5;18m__name__\u001b[39m \u001b[38;5;241m==\u001b[39m \u001b[38;5;124m\"\u001b[39m\u001b[38;5;124m__main__\u001b[39m\u001b[38;5;124m\"\u001b[39m:\n\u001b[1;32m---> 82\u001b[0m     \u001b[43mmain\u001b[49m\u001b[43m(\u001b[49m\u001b[43m)\u001b[49m\n",
      "Cell \u001b[1;32mIn[13], line 5\u001b[0m, in \u001b[0;36mmain\u001b[1;34m()\u001b[0m\n\u001b[0;32m      3\u001b[0m \u001b[38;5;28;01mwhile\u001b[39;00m \u001b[38;5;28;01mTrue\u001b[39;00m:\n\u001b[0;32m      4\u001b[0m     afficher_menu()\n\u001b[1;32m----> 5\u001b[0m     choix \u001b[38;5;241m=\u001b[39m \u001b[38;5;28;43minput\u001b[39;49m\u001b[43m(\u001b[49m\u001b[38;5;124;43m\"\u001b[39;49m\u001b[38;5;124;43mSélectionnez une option: \u001b[39;49m\u001b[38;5;124;43m\"\u001b[39;49m\u001b[43m)\u001b[49m\n\u001b[0;32m      7\u001b[0m     \u001b[38;5;28;01mif\u001b[39;00m choix \u001b[38;5;241m==\u001b[39m \u001b[38;5;124m'\u001b[39m\u001b[38;5;124m1\u001b[39m\u001b[38;5;124m'\u001b[39m:\n\u001b[0;32m      8\u001b[0m         service_name \u001b[38;5;241m=\u001b[39m \u001b[38;5;28minput\u001b[39m(\u001b[38;5;124m\"\u001b[39m\u001b[38;5;124mEntrez le nom du service: \u001b[39m\u001b[38;5;124m\"\u001b[39m)\n",
      "File \u001b[1;32m~\\AppData\\Roaming\\Python\\Python312\\site-packages\\ipykernel\\kernelbase.py:1270\u001b[0m, in \u001b[0;36mKernel.raw_input\u001b[1;34m(self, prompt)\u001b[0m\n\u001b[0;32m   1268\u001b[0m     msg \u001b[38;5;241m=\u001b[39m \u001b[38;5;124m\"\u001b[39m\u001b[38;5;124mraw_input was called, but this frontend does not support input requests.\u001b[39m\u001b[38;5;124m\"\u001b[39m\n\u001b[0;32m   1269\u001b[0m     \u001b[38;5;28;01mraise\u001b[39;00m StdinNotImplementedError(msg)\n\u001b[1;32m-> 1270\u001b[0m \u001b[38;5;28;01mreturn\u001b[39;00m \u001b[38;5;28;43mself\u001b[39;49m\u001b[38;5;241;43m.\u001b[39;49m\u001b[43m_input_request\u001b[49m\u001b[43m(\u001b[49m\n\u001b[0;32m   1271\u001b[0m \u001b[43m    \u001b[49m\u001b[38;5;28;43mstr\u001b[39;49m\u001b[43m(\u001b[49m\u001b[43mprompt\u001b[49m\u001b[43m)\u001b[49m\u001b[43m,\u001b[49m\n\u001b[0;32m   1272\u001b[0m \u001b[43m    \u001b[49m\u001b[38;5;28;43mself\u001b[39;49m\u001b[38;5;241;43m.\u001b[39;49m\u001b[43m_parent_ident\u001b[49m\u001b[43m[\u001b[49m\u001b[38;5;124;43m\"\u001b[39;49m\u001b[38;5;124;43mshell\u001b[39;49m\u001b[38;5;124;43m\"\u001b[39;49m\u001b[43m]\u001b[49m\u001b[43m,\u001b[49m\n\u001b[0;32m   1273\u001b[0m \u001b[43m    \u001b[49m\u001b[38;5;28;43mself\u001b[39;49m\u001b[38;5;241;43m.\u001b[39;49m\u001b[43mget_parent\u001b[49m\u001b[43m(\u001b[49m\u001b[38;5;124;43m\"\u001b[39;49m\u001b[38;5;124;43mshell\u001b[39;49m\u001b[38;5;124;43m\"\u001b[39;49m\u001b[43m)\u001b[49m\u001b[43m,\u001b[49m\n\u001b[0;32m   1274\u001b[0m \u001b[43m    \u001b[49m\u001b[43mpassword\u001b[49m\u001b[38;5;241;43m=\u001b[39;49m\u001b[38;5;28;43;01mFalse\u001b[39;49;00m\u001b[43m,\u001b[49m\n\u001b[0;32m   1275\u001b[0m \u001b[43m\u001b[49m\u001b[43m)\u001b[49m\n",
      "File \u001b[1;32m~\\AppData\\Roaming\\Python\\Python312\\site-packages\\ipykernel\\kernelbase.py:1313\u001b[0m, in \u001b[0;36mKernel._input_request\u001b[1;34m(self, prompt, ident, parent, password)\u001b[0m\n\u001b[0;32m   1310\u001b[0m \u001b[38;5;28;01mexcept\u001b[39;00m \u001b[38;5;167;01mKeyboardInterrupt\u001b[39;00m:\n\u001b[0;32m   1311\u001b[0m     \u001b[38;5;66;03m# re-raise KeyboardInterrupt, to truncate traceback\u001b[39;00m\n\u001b[0;32m   1312\u001b[0m     msg \u001b[38;5;241m=\u001b[39m \u001b[38;5;124m\"\u001b[39m\u001b[38;5;124mInterrupted by user\u001b[39m\u001b[38;5;124m\"\u001b[39m\n\u001b[1;32m-> 1313\u001b[0m     \u001b[38;5;28;01mraise\u001b[39;00m \u001b[38;5;167;01mKeyboardInterrupt\u001b[39;00m(msg) \u001b[38;5;28;01mfrom\u001b[39;00m \u001b[38;5;28;01mNone\u001b[39;00m\n\u001b[0;32m   1314\u001b[0m \u001b[38;5;28;01mexcept\u001b[39;00m \u001b[38;5;167;01mException\u001b[39;00m:\n\u001b[0;32m   1315\u001b[0m     \u001b[38;5;28mself\u001b[39m\u001b[38;5;241m.\u001b[39mlog\u001b[38;5;241m.\u001b[39mwarning(\u001b[38;5;124m\"\u001b[39m\u001b[38;5;124mInvalid Message:\u001b[39m\u001b[38;5;124m\"\u001b[39m, exc_info\u001b[38;5;241m=\u001b[39m\u001b[38;5;28;01mTrue\u001b[39;00m)\n",
      "\u001b[1;31mKeyboardInterrupt\u001b[0m: Interrupted by user"
     ]
    }
   ],
   "source": [
    "# Gérer les choix du menu\n",
    "def main():\n",
    "    while True:\n",
    "        afficher_menu()\n",
    "        choix = input(\"Sélectionnez une option: \")\n",
    "        \n",
    "        if choix == '1':\n",
    "            service_name = input(\"Entrez le nom du service: \")\n",
    "            date = input(\"Entrez la date (YYYY-MM-DD): \")\n",
    "            time = input(\"Entrez l'heure (HH:MM): \")\n",
    "            customer_name = input(\"Entrez le nom du client: \")\n",
    "            if service_name not in services:\n",
    "                services[service_name] = Service(service_name)\n",
    "            print(create_reservation(services[service_name], date, time, customer_name))\n",
    "        \n",
    "        elif choix == '2':\n",
    "            service_name = input(\"Entrez le nom du service pour afficher les réservations: \")\n",
    "            if service_name in services:\n",
    "                print(display_reservations(services[service_name]))\n",
    "            else:\n",
    "                print(f\"Service {service_name} non trouvé.\")\n",
    "        \n",
    "        elif choix == '3':\n",
    "            service_name = input(\"Entrez le nom du service pour vérifier la disponibilité: \")\n",
    "            date = input(\"Entrez la date (YYYY-MM-DD): \")\n",
    "            time = input(\"Entrez l'heure (HH:MM): \")\n",
    "            if service_name in services:\n",
    "                print(check_service_availability(services[service_name], date, time))\n",
    "            else:\n",
    "                print(f\"Service {service_name} non trouvé.\")\n",
    "        \n",
    "        elif choix == '4':\n",
    "            service_name = input(\"Entrez le nom du service pour modifier la réservation: \")\n",
    "            old_date = input(\"Entrez l'ancienne date (YYYY-MM-DD): \")\n",
    "            old_time = input(\"Entrez l'ancienne heure (HH:MM): \")\n",
    "            customer_name = input(\"Entrez le nom du client: \")\n",
    "            new_date = input(\"Entrez la nouvelle date (YYYY-MM-DD): \")\n",
    "            new_time = input(\"Entrez la nouvelle heure (HH:MM): \")\n",
    "            if service_name in services:\n",
    "                print(modify_reservation(services[service_name], old_date, old_time, customer_name, new_date, new_time))\n",
    "            else:\n",
    "                print(f\"Service {service_name} non trouvé.\")\n",
    "        \n",
    "        elif choix == '5':\n",
    "            service_name = input(\"Entrez le nom du service pour annuler la réservation: \")\n",
    "            date = input(\"Entrez la date (YYYY-MM-DD): \")\n",
    "            time = input(\"Entrez l'heure (HH:MM): \")\n",
    "            customer_name = input(\"Entrez le nom du client: \")\n",
    "            if service_name in services:\n",
    "                print(cancel_reservation(services[service_name], date, time, customer_name))\n",
    "            else:\n",
    "                print(f\"Service {service_name} non trouvé.\")\n",
    "        \n",
    "        elif choix == '6':\n",
    "            service_name = input(\"Entrez le nom du service pour afficher les réservations: \")\n",
    "            print(display_reservations_by_service(service_name, services))\n",
    "        \n",
    "        elif choix == '7':\n",
    "            service_name = input(\"Entrez le nom du service pour sauvegarder les réservations: \")\n",
    "            if service_name in services:\n",
    "                filename = input(\"Entrez le nom du fichier Excel (avec extension .xlsx): \")\n",
    "                print(save_reservations_to_excel(services[service_name], filename))\n",
    "            else:\n",
    "                print(f\"Service {service_name} non trouvé.\")\n",
    "        \n",
    "        elif choix == '8':\n",
    "            service_name = input(\"Entrez le nom du service pour charger les réservations: \")\n",
    "            if service_name not in services:\n",
    "                services[service_name] = Service(service_name)\n",
    "            filename = input(\"Entrez le nom du fichier Excel (avec extension .xlsx): \")\n",
    "            print(load_reservations_from_excel(services[service_name], filename))\n",
    "        \n",
    "        elif choix == '9':\n",
    "            print(\"Au revoir!\")\n",
    "            sys.exit()\n",
    "        \n",
    "        else:\n",
    "            print(\"Option invalide, veuillez réessayer.\")\n",
    "\n",
    "# Lancer le programme\n",
    "if __name__ == \"__main__\":\n",
    "    main()"
   ]
  }
 ],
 "metadata": {
  "kernelspec": {
   "display_name": "Python 3",
   "language": "python",
   "name": "python3"
  },
  "language_info": {
   "codemirror_mode": {
    "name": "ipython",
    "version": 3
   },
   "file_extension": ".py",
   "mimetype": "text/x-python",
   "name": "python",
   "nbconvert_exporter": "python",
   "pygments_lexer": "ipython3",
   "version": "3.12.6"
  }
 },
 "nbformat": 4,
 "nbformat_minor": 2
}
